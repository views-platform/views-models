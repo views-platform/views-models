{
 "cells": [
  {
   "cell_type": "code",
   "execution_count": 1,
   "metadata": {},
   "outputs": [],
   "source": [
    "from mcmc_sampler import MCMCSampler"
   ]
  },
  {
   "cell_type": "code",
   "execution_count": 2,
   "metadata": {},
   "outputs": [],
   "source": [
    "sampler = MCMCSampler()"
   ]
  },
  {
   "cell_type": "code",
   "execution_count": 3,
   "metadata": {},
   "outputs": [
    {
     "name": "stderr",
     "output_type": "stream",
     "text": [
      "INFO:mcmc_sampler:\n",
      "🧪 Running Tests on MCMC Sampler with Empirical Samples...\n",
      "\n",
      "INFO:mcmc_sampler:🔹 Running Test: Normal Distribution Samples\n",
      "INFO:mcmc_sampler:📊 Sample distribution set with 10000 points.\n",
      "INFO:mcmc_sampler:   📊 Sample Distribution Set with 10000 points\n",
      "INFO:mcmc_sampler:   🔧 Force Non-Negative: False\n",
      "INFO:mcmc_sampler:   ✅ Completed in 1.926 sec\n",
      "INFO:mcmc_sampler:   🔍 MAP Estimate: 0.059225\n",
      "INFO:mcmc_sampler:   🔍 Max Value: 3.671939\n",
      "INFO:mcmc_sampler:   🔍 HDI 50%: [0.000000, 0.508120]\n",
      "INFO:mcmc_sampler:   🔍 HDI 95%: [0.000000, 1.952956]\n",
      "INFO:mcmc_sampler:   🔍 HDI 99%: [0.000000, 2.444118]\n",
      "INFO:mcmc_sampler:🔹 Running Test: Poisson Count Data\n",
      "INFO:mcmc_sampler:📊 Sample distribution set with 10000 points.\n",
      "INFO:mcmc_sampler:   📊 Sample Distribution Set with 10000 points\n",
      "INFO:mcmc_sampler:   🔧 Force Non-Negative: True\n",
      "INFO:mcmc_sampler:   ✅ Completed in 2.026 sec\n",
      "INFO:mcmc_sampler:   🔍 MAP Estimate: 4.107135\n",
      "INFO:mcmc_sampler:   🔍 Max Value: 13.142831\n",
      "INFO:mcmc_sampler:   🔍 HDI 50%: [2.770866, 5.549087]\n",
      "INFO:mcmc_sampler:   🔍 HDI 95%: [0.812792, 9.067048]\n",
      "INFO:mcmc_sampler:   🔍 HDI 99%: [0.000000, 10.634752]\n",
      "INFO:mcmc_sampler:   🔍 ✅ All values are non-negative (constraint satisfied)\n",
      "INFO:mcmc_sampler:🔹 Running Test: Gamma Distributed Samples\n",
      "INFO:mcmc_sampler:📊 Sample distribution set with 10000 points.\n",
      "INFO:mcmc_sampler:   📊 Sample Distribution Set with 10000 points\n",
      "INFO:mcmc_sampler:   🔧 Force Non-Negative: True\n",
      "INFO:mcmc_sampler:   ✅ Completed in 2.755 sec\n",
      "INFO:mcmc_sampler:   🔍 MAP Estimate: 1.589524\n",
      "INFO:mcmc_sampler:   🔍 Max Value: 19.528442\n",
      "INFO:mcmc_sampler:   🔍 HDI 50%: [0.944696, 4.378596]\n",
      "INFO:mcmc_sampler:   🔍 HDI 95%: [0.000000, 11.766493]\n",
      "INFO:mcmc_sampler:   🔍 HDI 99%: [0.000000, 16.811592]\n",
      "INFO:mcmc_sampler:   🔍 ✅ All values are non-negative (constraint satisfied)\n",
      "INFO:mcmc_sampler:🔹 Running Test: Extreme Right-Skewed Data\n",
      "INFO:mcmc_sampler:📊 Sample distribution set with 10000 points.\n",
      "INFO:mcmc_sampler:   📊 Sample Distribution Set with 10000 points\n",
      "INFO:mcmc_sampler:   🔧 Force Non-Negative: True\n",
      "INFO:mcmc_sampler:   ✅ Completed in 1.344 sec\n",
      "INFO:mcmc_sampler:   🔍 MAP Estimate: 0.145826\n",
      "INFO:mcmc_sampler:   🔍 Max Value: 10.499469\n",
      "INFO:mcmc_sampler:   🔍 HDI 50%: [0.000000, 1.484129]\n",
      "INFO:mcmc_sampler:   🔍 HDI 95%: [0.000000, 6.498733]\n",
      "INFO:mcmc_sampler:   🔍 HDI 99%: [0.000000, 8.279842]\n",
      "INFO:mcmc_sampler:   🔍 ✅ All values are non-negative (constraint satisfied)\n",
      "INFO:mcmc_sampler:🔹 Running Test: Heavy-Tailed Student's t\n",
      "INFO:mcmc_sampler:📊 Sample distribution set with 10000 points.\n",
      "INFO:mcmc_sampler:   📊 Sample Distribution Set with 10000 points\n",
      "INFO:mcmc_sampler:   🔧 Force Non-Negative: False\n",
      "INFO:mcmc_sampler:   ✅ Completed in 1.249 sec\n",
      "INFO:mcmc_sampler:   🔍 MAP Estimate: 0.067409\n",
      "INFO:mcmc_sampler:   🔍 Max Value: 5.527533\n",
      "INFO:mcmc_sampler:   🔍 HDI 50%: [0.000000, 0.643869]\n",
      "INFO:mcmc_sampler:   🔍 HDI 95%: [0.000000, 2.747160]\n",
      "INFO:mcmc_sampler:   🔍 HDI 99%: [0.000000, 3.982880]\n",
      "INFO:mcmc_sampler:🔹 Running Test: Sparse Data (90% Zero)\n",
      "INFO:mcmc_sampler:📊 Sample distribution set with 10000 points.\n",
      "INFO:mcmc_sampler:   📊 Sample Distribution Set with 10000 points\n",
      "INFO:mcmc_sampler:   🔧 Force Non-Negative: True\n",
      "INFO:mcmc_sampler:   ✅ Completed in 1.130 sec\n",
      "INFO:mcmc_sampler:   🔍 MAP Estimate: 9.856071\n",
      "INFO:mcmc_sampler:   🔍 Max Value: 16.244973\n",
      "INFO:mcmc_sampler:   🔍 HDI 50%: [9.035937, 12.035192]\n",
      "INFO:mcmc_sampler:   🔍 HDI 95%: [6.072973, 14.343754]\n",
      "INFO:mcmc_sampler:   🔍 HDI 99%: [4.908429, 15.304849]\n",
      "INFO:mcmc_sampler:   🔍 ✅ All values are non-negative (constraint satisfied)\n",
      "INFO:mcmc_sampler:🔹 Running Test: Floating-Point Precision Test\n",
      "INFO:mcmc_sampler:📊 Sample distribution set with 10000 points.\n",
      "INFO:mcmc_sampler:   📊 Sample Distribution Set with 10000 points\n",
      "INFO:mcmc_sampler:   🔧 Force Non-Negative: False\n",
      "INFO:mcmc_sampler:   ✅ Completed in 2.089 sec\n",
      "INFO:mcmc_sampler:   🔍 MAP Estimate: 0.000010\n",
      "INFO:mcmc_sampler:   🔍 Max Value: 0.000010\n",
      "INFO:mcmc_sampler:   🔍 HDI 50%: [0.000010, 0.000010]\n",
      "INFO:mcmc_sampler:   🔍 HDI 95%: [0.000010, 0.000010]\n",
      "INFO:mcmc_sampler:   🔍 HDI 99%: [0.000010, 0.000010]\n",
      "INFO:mcmc_sampler:🔹 Running Test: Extreme Large Values\n",
      "INFO:mcmc_sampler:📊 Sample distribution set with 10000 points.\n",
      "INFO:mcmc_sampler:   📊 Sample Distribution Set with 10000 points\n",
      "INFO:mcmc_sampler:   🔧 Force Non-Negative: False\n",
      "INFO:mcmc_sampler:   ✅ Completed in 1.099 sec\n",
      "INFO:mcmc_sampler:   🔍 MAP Estimate: 1000032.655877\n",
      "INFO:mcmc_sampler:   🔍 Max Value: 1000049.131906\n",
      "INFO:mcmc_sampler:   🔍 HDI 50%: [1000026.937725, 1000036.105876]\n",
      "INFO:mcmc_sampler:   🔍 HDI 95%: [1000017.043499, 1000046.777547]\n",
      "INFO:mcmc_sampler:   🔍 HDI 99%: [1000003.071050, 1000047.334940]\n",
      "INFO:mcmc_sampler:\n",
      "✅ All MCMC Sampler Tests Passed Successfully!\n",
      "\n"
     ]
    }
   ],
   "source": [
    "sampler.run_tests()"
   ]
  }
 ],
 "metadata": {
  "kernelspec": {
   "display_name": "views_pipeline",
   "language": "python",
   "name": "python3"
  },
  "language_info": {
   "codemirror_mode": {
    "name": "ipython",
    "version": 3
   },
   "file_extension": ".py",
   "mimetype": "text/x-python",
   "name": "python",
   "nbconvert_exporter": "python",
   "pygments_lexer": "ipython3",
   "version": "3.11.11"
  }
 },
 "nbformat": 4,
 "nbformat_minor": 2
}
